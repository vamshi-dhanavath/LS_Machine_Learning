{
  "nbformat": 4,
  "nbformat_minor": 0,
  "metadata": {
    "colab": {
      "provenance": []
    },
    "kernelspec": {
      "name": "python3",
      "display_name": "Python 3"
    },
    "language_info": {
      "name": "python"
    }
  },
  "cells": [
    {
      "cell_type": "markdown",
      "source": [
        "# Numpy Implementation"
      ],
      "metadata": {
        "id": "nKMH5Y1T06vH"
      }
    },
    {
      "cell_type": "code",
      "execution_count": 12,
      "metadata": {
        "colab": {
          "base_uri": "https://localhost:8080/"
        },
        "id": "MM8X0T-p06HB",
        "outputId": "6cc491ae-029a-4745-9fde-ad86bc3b657b",
        "collapsed": true
      },
      "outputs": [
        {
          "output_type": "stream",
          "name": "stdout",
          "text": [
            "Passed\n"
          ]
        }
      ],
      "source": [
        "# @title\n",
        "import numpy as np\n",
        "\n",
        "# Create a 2D Numpy array of size 1x3 with elements of your choice\n",
        "arr1 = np.array([10, 20, 30])\n",
        "\n",
        "# Create a Numpy array of length 50 with zeroes as its elements\n",
        "arr2 = np.zeros(50)\n",
        "\n",
        "# Create a 3x2 Numpy array of your choice\n",
        "arr3 = np.array([[4, 5], [6, 7], [8, 9]])\n",
        "\n",
        "# Reshape arr1 to be of shape (3, 1)\n",
        "arr1_reshaped = arr1.reshape(3, 1)\n",
        "\n",
        "# Perform element-wise multiplication of arr1_reshaped and arr3\n",
        "arr4 = arr1_reshaped * arr3\n",
        "\n",
        "# Change 5th element of arr2 to a different number (indexing starts from 0)\n",
        "arr2[4] = 100\n",
        "\n",
        "# Check conditions for passing the test\n",
        "if arr4.shape == (3, 2) and arr2[4] != 0:\n",
        "    print(\"Passed\")\n",
        "else:\n",
        "    print(\"Fail\")\n",
        "\n"
      ]
    },
    {
      "cell_type": "code",
      "source": [
        "# @title\n",
        "import numpy as n\n",
        "I = np.eye(3)\n",
        "A = 9 * I + 1\n",
        "dot_product = np.dot(I, A)\n",
        "\n",
        "print(\"Dot product of I and 9I + 1:\")\n",
        "print(dot_product)\n"
      ],
      "metadata": {
        "id": "KNTXZFd13rgE",
        "collapsed": true,
        "outputId": "32f921ff-7c55-4b2d-8d61-a0069560a695",
        "colab": {
          "base_uri": "https://localhost:8080/"
        }
      },
      "execution_count": 14,
      "outputs": [
        {
          "output_type": "stream",
          "name": "stdout",
          "text": [
            "Dot product of I and 9I + 1:\n",
            "[[10.  1.  1.]\n",
            " [ 1. 10.  1.]\n",
            " [ 1.  1. 10.]]\n"
          ]
        }
      ]
    },
    {
      "cell_type": "markdown",
      "source": [
        "# Pandas Implementation"
      ],
      "metadata": {
        "id": "rRrOxN-6FXAb"
      }
    },
    {
      "cell_type": "code",
      "source": [
        "# @title\n",
        "import pandas as pd\n",
        "\n",
        "## Create a DataFrame from a dictionary\n",
        "data = {\n",
        "    'Name': ['Ramesh', 'Mahesh', 'Suresh'],\n",
        "    'Age': [25, 30, 35],\n",
        "    'City': ['Bangalore', 'Mumbai', 'Delhi']\n",
        "}\n",
        "df = pd.DataFrame(data)\n",
        "\n",
        "# Display the first 2 rows of the data frame\n",
        "print(\"First 2 rows of the data frame:\")\n",
        "print(df.head(2))  # head(2) gives the first 2 rows\n",
        "\n",
        "# Print the age column\n",
        "print(\"\\nAge column:\")\n",
        "print(df['Age'])\n",
        "\n",
        "# Filter rows where age is greater than 26\n",
        "print(\"\\nRows where age is greater than 26:\")\n",
        "print(df[df['Age'] > 26])\n",
        "\n",
        "# Add a new column 'Country' with the value 'India' for all rows\n",
        "df['Country'] = 'India'\n",
        "\n",
        "# Display the updated DataFrame with 'Country' column\n",
        "print(\"\\nUpdated DataFrame with 'Country' column:\")\n",
        "print(df)\n",
        "\n",
        "# Handling missing values in the 'Age' column in data1\n",
        "data1 = {\n",
        "    'Name': ['Ramesh', 'Mahesh', 'Suresh'],\n",
        "    'Age': [25, None, 35],\n",
        "    'City': ['Bangalore', 'Mumbai', 'Delhi']\n",
        "}\n",
        "df1 = pd.DataFrame(data1)\n",
        "\n",
        "# Fill missing values in the 'Age' column with the mean age\n",
        "mean_age = df1['Age'].mean()\n",
        "df1['Age'].fillna(mean_age, inplace=True)\n",
        "\n",
        "# Display the DataFrame with filled missing values\n",
        "print(\"\\nDataFrame with filled missing values in 'Age' column:\")\n",
        "print(df1)\n"
      ],
      "metadata": {
        "id": "EaoIVtKIFenB",
        "collapsed": true,
        "outputId": "ace26aee-3951-4aa7-c0f5-02de8d6ceb83",
        "colab": {
          "base_uri": "https://localhost:8080/"
        }
      },
      "execution_count": 16,
      "outputs": [
        {
          "output_type": "stream",
          "name": "stdout",
          "text": [
            "First 2 rows of the data frame:\n",
            "     Name  Age       City\n",
            "0  Ramesh   25  Bangalore\n",
            "1  Mahesh   30     Mumbai\n",
            "\n",
            "Age column:\n",
            "0    25\n",
            "1    30\n",
            "2    35\n",
            "Name: Age, dtype: int64\n",
            "\n",
            "Rows where age is greater than 26:\n",
            "     Name  Age    City\n",
            "1  Mahesh   30  Mumbai\n",
            "2  Suresh   35   Delhi\n",
            "\n",
            "Updated DataFrame with 'Country' column:\n",
            "     Name  Age       City Country\n",
            "0  Ramesh   25  Bangalore   India\n",
            "1  Mahesh   30     Mumbai   India\n",
            "2  Suresh   35      Delhi   India\n",
            "\n",
            "DataFrame with filled missing values in 'Age' column:\n",
            "     Name   Age       City\n",
            "0  Ramesh  25.0  Bangalore\n",
            "1  Mahesh  30.0     Mumbai\n",
            "2  Suresh  35.0      Delhi\n"
          ]
        }
      ]
    },
    {
      "cell_type": "markdown",
      "source": [
        "# Matplotlib Implementation"
      ],
      "metadata": {
        "id": "uay3H4C8cboE"
      }
    },
    {
      "cell_type": "code",
      "source": [
        "# @title\n",
        "import matplotlib.pyplot as plt\n",
        "import numpy as np\n",
        "\n",
        "xpoints = np.array([1, 2, 3, 4])\n",
        "ypoints = np.array([2, 4, 6, 8])\n",
        "\n",
        "# Plot these points without drawing a line\n",
        "plt.figure(figsize=(10, 6))\n",
        "plt.scatter(xpoints, ypoints, color='black', s=100, label='Points')\n",
        "\n",
        "# Plotting with marker: Plot these points with a star marker\n",
        "plt.scatter(xpoints, ypoints, marker='*', color='orange', s=100, label='Star Marker')\n",
        "\n",
        "# Using fmt format, add circular marker, red color, and dashed line\n",
        "plt.plot(xpoints, ypoints, 'ro--', label='Circular Marker, Red Color, Dashed Line')\n",
        "\n",
        "# Add xlabel, ylabel, and title for the plot\n",
        "plt.xlabel('X-axis')\n",
        "plt.ylabel('Y-axis')\n",
        "plt.title('Plotting Examples')\n",
        "\n",
        "# Create a scatter plot for xpoints and ypoints\n",
        "plt.figure(figsize=(10, 6))\n",
        "plt.scatter(xpoints, ypoints)\n",
        "\n",
        "# Set color to the scatter plot. Blue, Green, Red, and Yellow color for each point respectively\n",
        "colors = ['blue', 'green', 'red', 'yellow']\n",
        "for i in range(len(xpoints)):\n",
        "    plt.scatter(xpoints[i], ypoints[i], color=colors[i], s=100)\n",
        "\n",
        "# Add labels and title\n",
        "plt.xlabel('X-axis')\n",
        "plt.ylabel('Y-axis')\n",
        "plt.title('Scatter Plot with Different Colors')\n",
        "\n",
        "plt.show()\n"
      ],
      "metadata": {
        "colab": {
          "base_uri": "https://localhost:8080/",
          "height": 1000
        },
        "id": "i4lccqVxcgE_",
        "outputId": "e4bbfd48-18b7-4d3a-9d67-735ee622f2f0",
        "collapsed": true
      },
      "execution_count": 17,
      "outputs": [
        {
          "output_type": "display_data",
          "data": {
            "text/plain": [
              "<Figure size 1000x600 with 1 Axes>"
            ],
            "image/png": "[encoded data removed]"
          },
          "metadata": {}
        },
        {
          "output_type": "display_data",
          "data": {
            "text/plain": [
              "<Figure size 1000x600 with 1 Axes>"
            ],
            "image/png": "[encoded data removed]"
          },
          "metadata": {}
        }
      ]
    },
    {
      "cell_type": "markdown",
      "source": [
        "# Miscellaneous Modules Implementation"
      ],
      "metadata": {
        "id": "pfe2Fv2tgKq5"
      }
    },
    {
      "cell_type": "code",
      "source": [
        "# @title\n",
        "import random\n",
        "import numpy as np\n",
        "\n",
        "# Set the seed of random to 20\n",
        "random.seed(20)\n",
        "\n",
        "arr1 = np.array([1, 24, 31, 45, 73, 81, 94, 25])\n",
        "\n",
        "# Using the random module, pick 4 different random numbers from arr1 and return their sum.\n",
        "random_numbers = random.sample(list(arr1), 4)\n",
        "sum_random_numbers = sum(random_numbers)\n",
        "\n",
        "print(\"Random numbers picked:\", random_numbers)\n",
        "print(\"Sum of random numbers:\", sum_random_numbers)\n"
      ],
      "metadata": {
        "id": "a_bTz2PlgRah",
        "collapsed": true,
        "outputId": "0551b9ce-3656-4f36-d68f-0303e0ab79e8",
        "colab": {
          "base_uri": "https://localhost:8080/"
        }
      },
      "execution_count": 18,
      "outputs": [
        {
          "output_type": "stream",
          "name": "stdout",
          "text": [
            "Random numbers picked: [31, 25, 81, 1]\n",
            "Sum of random numbers: 138\n"
          ]
        }
      ]
    }
  ]
}